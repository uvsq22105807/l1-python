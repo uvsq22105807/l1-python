{
 "cells": [
  {
   "cell_type": "markdown",
   "metadata": {
    "slideshow": {
     "slide_type": "slide"
    }
   },
   "source": [
    "# TD 2: Les structures de contrôle\n",
    "\n",
    "---\n",
    "\n",
    "## 0. Récupération des nouveaux documents\n",
    "\n",
    "\n",
    "Les sujets de TD ainsi que les supports de cours sont publiés en ligne au fur et à mesure sur l'espace github original [https://github.com/uvsq-info/l1-python](https://github.com/uvsq-info/l1-python). Au moment où vous avez fait le fork de cet espace sur votre espace personnel, il est probable que tous les contenus n'étaient pas présents. Pour compléter votre espace, deux solutions sont possibles:\n",
    "\n",
    "\n",
    "1. (solution à privilégier) aller sur la page du projet original [https://github.com/uvsq-info/l1-python](https://github.com/uvsq-info/l1-python), et cliquer sur le bouton vert `Code` en haut à droite. Choisir `download ZIP`, puis extraire l'ensemble des nouveaux fichiers vers votre projet personnel local. Vous pouvez ensuite sauvegarder ces ajouts dans votre espace github personnel en suivant la procédure habituelle.\n",
    "2. (solution qui présente des risques de conflits entre différentes versions d'un même document) en ligne de commande dans le terminal, en suivant la procédure de la section *Intégrer les mises à jour du projet original* du fichier [README.md](https://github.com/uvsq-info/l1-python/blob/master/README.md#int%C3%A9grer-les-mises-%C3%A0-jour-du-projet-original)\n"
   ]
  },
  {
   "cell_type": "markdown",
   "metadata": {
    "slideshow": {
     "slide_type": "slide"
    }
   },
   "source": [
    "---\n",
    "\n",
    "## 1. Premiers exercices avec les structures conditionnelles\n",
    "\n",
    "**Exercice 1:**\n",
    "\n",
    "1. Soit *num1 = 15* et *num2 = 5*. Ecrire un programme qui affiche *Factors!* si l'un des nombres est un facteur de l'autre (c'est-à-dire qu'il divise l'autre nombre). Si aucun des nombres n'est un facteur de l'autre, le programme n'affiche rien.\n",
    "2. Changer le code que vous avez écrit de telle sorte qu'il affiche toujours *Factors!* si un nombre est un facteur de l'autre, mais qui affiche aussi *Not factors!* si aucun des nombres n'est un facteur de l'autre."
   ]
  },
  {
   "cell_type": "code",
   "execution_count": 10,
   "metadata": {},
   "outputs": [
    {
     "name": "stdout",
     "output_type": "stream",
     "text": [
      "Factors!\n"
     ]
    }
   ],
   "source": [
    "def factors(num1, num2):\n",
    "    if int(num1)%int(num2)==0:\n",
    "        return \"Factors!\"\n",
    "\n",
    "print (factors(15,5))"
   ]
  },
  {
   "cell_type": "code",
   "execution_count": 11,
   "metadata": {
    "slideshow": {
     "slide_type": "notes"
    }
   },
   "outputs": [
    {
     "name": "stdout",
     "output_type": "stream",
     "text": [
      "Factors!\n"
     ]
    }
   ],
   "source": [
    "def factors(num1, num2):\n",
    "    if int(num1)%int(num2)==0:\n",
    "        return \"Factors!\"\n",
    "    else:\n",
    "        return \"NoFactors!\"\n",
    "\n",
    "print (factors(15,5))"
   ]
  },
  {
   "cell_type": "markdown",
   "metadata": {
    "slideshow": {
     "slide_type": "slide"
    }
   },
   "source": [
    "**Exercice 2:**\n",
    "    \n",
    "Soit *state = \"Georgia\"*. Ecrire un programme qui permet d'afficher un message spécifique en fonction de la variable *state* :  \n",
    "* \"School isn't cancelled.\" si nous sommes à New Jersey,  \n",
    "* \"School is postponed.\" si nous sommes à North Carolina,\n",
    "* \"School is cancelled!\" si nous sommes à Georgia,  \n",
    "* \"School's status is unknown\" si nous ne sommes pas dans un des trois états précédemment mentionnés."
   ]
  },
  {
   "cell_type": "code",
   "execution_count": 11,
   "metadata": {
    "slideshow": {
     "slide_type": "notes"
    }
   },
   "outputs": [
    {
     "name": "stdout",
     "output_type": "stream",
     "text": [
      "School isn't cancelled.\n"
     ]
    }
   ],
   "source": [
    "ville=input(\"Ville?\")\n",
    "\n",
    "def school(ville):\n",
    "    if ville==\"New Jersey\":\n",
    "        return \"School isn't cancelled.\"\n",
    "    elif ville==\"North Carolina\":\n",
    "        return \"School is postponed.\"\n",
    "    elif ville==\"Georgia\":\n",
    "        return \"School is cancelled.\"\n",
    "    else:\n",
    "        return\"School's status is unknown.\"\n",
    "\n",
    "print(school(ville))"
   ]
  },
  {
   "cell_type": "markdown",
   "metadata": {
    "slideshow": {
     "slide_type": "slide"
    }
   },
   "source": [
    "**Exercice 3:**\n",
    "\n",
    "Ecrire un programme pour découvrir le signe du zodiaque chinois pour une année donnée. Le signe du zodiaque chinois est basé sur un cycle de 12 ans et chaque année de ce cycle est représentée par un animal :\n",
    "* 0: monkey\n",
    "* 1: rooster\n",
    "* 2: dog\n",
    "* 3: pig\n",
    "* 4: rat\n",
    "* 5: fox\n",
    "* 6: tiger\n",
    "* 7: rabbit\n",
    "* 8: dragon\n",
    "* 9: snake\n",
    "* 10: horse\n",
    "* 11: sheep\n",
    "\n",
    "La valeur de l'année % 12 détermine le signe du zodiaque. Par exemple, 1900 est l'année du *rat* puisque 1900 % 12 est 4."
   ]
  },
  {
   "cell_type": "code",
   "execution_count": 3,
   "metadata": {
    "slideshow": {
     "slide_type": "notes"
    }
   },
   "outputs": [
    {
     "name": "stdout",
     "output_type": "stream",
     "text": [
      "fox\n"
     ]
    }
   ],
   "source": [
    "L={0: \"monkey\", 1: \"rooster\", 2: \"dog\", 3: \"pig\", 4: \"rat\", 5: \"fox\", 6: \"tiger\", 7: \"rabbit\", 8: \"dragon\", 9: \"snake\", 10: \"horse\", 11: \"sheep\"}\n",
    "x=int(input(\"Quelle année?\"))\n",
    "print(L[x%12])"
   ]
  },
  {
   "cell_type": "code",
   "execution_count": 16,
   "metadata": {},
   "outputs": [
    {
     "name": "stdout",
     "output_type": "stream",
     "text": [
      "horse\n"
     ]
    }
   ],
   "source": [
    "L=[\"monkey\", \"rooster\", \"dog\", \"pig\", \"rat\", \"fox\", \"tiger\", \"rabbit\", \"dragon\", \"snake\", \"horse\", \"sheep\"]\n",
    "x=int(input(\"Quelle année?\"))\n",
    "print(L[x%12])"
   ]
  },
  {
   "cell_type": "markdown",
   "metadata": {
    "slideshow": {
     "slide_type": "slide"
    }
   },
   "source": [
    "**Exercice 4:**\n",
    "\n",
    "Soit *temperature = -3.7* et *celsius = True*. *celsius* est une variable booléenne qui indique si la température est en Celsius; si c'est *False*, alors la température donnée est en Fahrenheit. Ecrire un premier programme en utilisant *if-else* seulement qui permet d'afficher *Freezing* si les valeurs données représentent une température très basse, et *Not freezing* si ce n'est pas le cas. En Celsius, on considère qu'il fait très froid lorsque la température est inférieure ou égale à 0 degré. En Fahrenheit, on considère qu'il fait très froid lorsque la température est inférieure ou égale à 32 degrés. Proposer une seconde solution en utilisant *if-elif-else* à ce même problème."
   ]
  },
  {
   "cell_type": "code",
   "execution_count": 18,
   "metadata": {
    "slideshow": {
     "slide_type": "notes"
    }
   },
   "outputs": [
    {
     "name": "stdout",
     "output_type": "stream",
     "text": [
      "Il fait très froid.\n"
     ]
    }
   ],
   "source": [
    "temperature= -3.7\n",
    "celsius= True\n",
    "\n",
    "if celsius is True:\n",
    "    if temperature <= 0:\n",
    "        print(\"Il fait très froid.\")\n",
    "elif celsius is False:\n",
    "    if temperature <= 32:\n",
    "        print(\"Il fait très froid\")"
   ]
  },
  {
   "cell_type": "code",
   "execution_count": 2,
   "metadata": {},
   "outputs": [
    {
     "name": "stdout",
     "output_type": "stream",
     "text": [
      "Il fait très froid.\n"
     ]
    }
   ],
   "source": [
    "#première  solution --> Bcp de lignes, faut optimiser.\n",
    "\n",
    "temperature= -3.5\n",
    "celsius= True\n",
    "\n",
    "if celsius is True:\n",
    "    if temperature <= 0:\n",
    "        print(\"Il fait très froid.\")\n",
    "    else:\n",
    "        print(\"Il fait pas froid.\")\n",
    "else:\n",
    "    if temperature <= 32:\n",
    "        print(\"Il fait très froid\")\n",
    "    else:\n",
    "        print(\"Il fait pas froid.\")"
   ]
  },
  {
   "cell_type": "code",
   "execution_count": 8,
   "metadata": {},
   "outputs": [
    {
     "name": "stdout",
     "output_type": "stream",
     "text": [
      "Il fait pas froid\n"
     ]
    }
   ],
   "source": [
    "temperature=33\n",
    "celsius=False\n",
    "\n",
    "if celsius is True and temperature <= 0 or celsius is False and temperature <= 32:\n",
    "    print(\"Il fait froid.\")\n",
    "else:\n",
    "    print(\"Il fait pas froid\")\n",
    "\n"
   ]
  },
  {
   "cell_type": "markdown",
   "metadata": {
    "slideshow": {
     "slide_type": "slide"
    }
   },
   "source": [
    "**Exercice 5:**\n",
    "    \n",
    "Ecrire un programme qui permet de déterminer si une année est bissextile ou non en utilisant une seule instruction *if-else*. Une année *A* est bissextile si *A* est divisible par 4. Elle ne l’est cependant pas si *A* est un multiple\n",
    "de 100, à moins que *A* ne soit multiple de 400.    "
   ]
  },
  {
   "cell_type": "code",
   "execution_count": 6,
   "metadata": {
    "slideshow": {
     "slide_type": "notes"
    }
   },
   "outputs": [
    {
     "name": "stdout",
     "output_type": "stream",
     "text": [
      "Cette année est bissextile\n"
     ]
    }
   ],
   "source": [
    "a=int(input(\"Quelle année ?\"))\n",
    "if a%4==0 and a%100!=0 or a%4==0 and a%400==0:\n",
    "        print(\"Cette année est bissextile\")\n",
    "else:\n",
    "    print(\"Cette année n'est pas bissextile\")"
   ]
  },
  {
   "cell_type": "markdown",
   "metadata": {},
   "source": [
    "---\n",
    "\n",
    "## 2. Premiers exercices avec les structures itératives\n",
    "\n",
    "**Exercice 6:**\n",
    "\n",
    "1. Ecrire un programme qui permet d'afficher tous les nombres entre 1 et 10 (bornes incluses).\n",
    "2. Ecrire un programme se limitant à la boucle *for* qui permet d'afficher tous les nombres pairs entre 1 et 20 (bornes incluses). Proposer une deuxième solution en incluant une structure conditionnelle."
   ]
  },
  {
   "cell_type": "code",
   "execution_count": 11,
   "metadata": {},
   "outputs": [
    {
     "name": "stdout",
     "output_type": "stream",
     "text": [
      "1\n",
      "2\n",
      "3\n",
      "4\n",
      "5\n",
      "6\n",
      "7\n",
      "8\n",
      "9\n",
      "10\n"
     ]
    }
   ],
   "source": [
    "for i in range (1,11):\n",
    "    print(i)"
   ]
  },
  {
   "cell_type": "code",
   "execution_count": 12,
   "metadata": {},
   "outputs": [
    {
     "name": "stdout",
     "output_type": "stream",
     "text": [
      "2\n",
      "4\n",
      "6\n",
      "8\n",
      "10\n",
      "12\n",
      "14\n",
      "16\n",
      "18\n",
      "20\n"
     ]
    }
   ],
   "source": [
    "for i in range(1,21):\n",
    "    if i%2==0:\n",
    "        print(i)\n",
    "    else:\n",
    "        None"
   ]
  },
  {
   "cell_type": "markdown",
   "metadata": {},
   "source": [
    "**Exercice 7:**\n",
    "    \n",
    "1. Ecrire un programme qui demande à l'utilisateur de saisir *n* nombres, *n* étant choisi par l'utilisateur, puis d'afficher la moyenne de ces nombres.\n",
    "\n",
    "2. Même question, mais l'utilisateur ne choisit pas à l'avance le nombre *n*, la procédure s'arrête quand il saisit le nombre -1.\n"
   ]
  },
  {
   "cell_type": "code",
   "execution_count": 7,
   "metadata": {},
   "outputs": [
    {
     "name": "stdout",
     "output_type": "stream",
     "text": [
      "la moyenne est 7.0\n"
     ]
    }
   ],
   "source": [
    "n=int(input(\"Vous voulez inserer combien de nombres ?\"))\n",
    "b=0\n",
    "for n in range (1,n+1):\n",
    "    a=int(input(\"Inserez les notes:\"))\n",
    "    b=b+a\n",
    "\n",
    "print(\"la moyenne est\", b/n)\n"
   ]
  },
  {
   "cell_type": "code",
   "execution_count": 8,
   "metadata": {},
   "outputs": [
    {
     "name": "stdout",
     "output_type": "stream",
     "text": [
      "La moyenne est 4.0\n"
     ]
    }
   ],
   "source": [
    "a=0\n",
    "b=0\n",
    "c=0\n",
    "\n",
    "while a != -1:\n",
    "    a=int(input(\"Inserez les notes:\"))\n",
    "    b=b+a\n",
    "    c=c+1\n",
    "\n",
    "b=b+1\n",
    "c=c-1\n",
    "\n",
    "print(\"La moyenne est\", b/c)"
   ]
  },
  {
   "cell_type": "markdown",
   "metadata": {},
   "source": [
    "**Exercice 8:**\n",
    "\n",
    "Ecrire un programme qui permet de calculer le factoriel d'un nombre positif donné par l'utlisateur selon la formule suivante : \n",
    "n! = 1 x 2 x ... x n.  \n",
    "\n",
    "1. Une première version en utilisant la boucle *for*\n",
    "2. Une seconde version en utilisant la boucle *while*"
   ]
  },
  {
   "cell_type": "code",
   "execution_count": 3,
   "metadata": {},
   "outputs": [
    {
     "name": "stdout",
     "output_type": "stream",
     "text": [
      "24\n"
     ]
    }
   ],
   "source": [
    "n=int(input(\"Choississez un nombre pour savoir sa factorielle:\"))\n",
    "a=1\n",
    "for i in range (1,n+1): \n",
    "    a=a*i \n",
    "print(a)"
   ]
  },
  {
   "cell_type": "code",
   "execution_count": 9,
   "metadata": {},
   "outputs": [
    {
     "name": "stdout",
     "output_type": "stream",
     "text": [
      "24\n"
     ]
    }
   ],
   "source": [
    "n=int(input(\"Choississez un nombre pour savoir sa factorielle:\"))\n",
    "compteur=1\n",
    "b=1\n",
    "\n",
    "while compteur<=n:\n",
    "    b=b*compteur\n",
    "    compteur=compteur+1\n",
    "\n",
    "print(b)"
   ]
  },
  {
   "cell_type": "markdown",
   "metadata": {
    "slideshow": {
     "slide_type": "slide"
    }
   },
   "source": [
    "---\n",
    "\n",
    "## 3. Pour aller plus loin\n",
    "\n",
    "**Excercice 9:**\n",
    "\n",
    "Ecrire un programme qui permet de connaître le jour de naissance de l'utilisateur en posant cinq questions.\n",
    "Chaque question demande si le jour est dans l'un des cinq ensembles suivants :\n",
    "\n",
    "* Set 1: \\[1 3 5 7 9 11 13 15 17 19 21 23 25 27 29 31\\]\n",
    "* Set 2: \\[2 3 6 7 10 11 14 15 18 19 22 23 26 27 30 31\\]\n",
    "* Set 3: \\[4 5 6 7 12 13 14 15 20 21 22 23 28 29 30 31\\]\n",
    "* Set 4: \\[8 9 10 11 12 13 14 15 24 25 26 27 28 29 30 31\\]\n",
    "* Set 5: \\[16 17 18 19 20 21 22 23 24 25 26 27 28 29 30 31\\]\n",
    "    \n",
    "\n",
    "Le jour de naissance est la somme des premiers nombres dans les ensembles où le jour apparaît. Par exemple,\n",
    "si le jour de naissance est 19, il apparaît dans Set 1, Set 2 et Set 5. Les premiers chiffres de ces trois ensembles sont 1, 2 et 16. Leur somme est 19."
   ]
  },
  {
   "cell_type": "code",
   "execution_count": 4,
   "metadata": {
    "slideshow": {
     "slide_type": "notes"
    }
   },
   "outputs": [
    {
     "name": "stdout",
     "output_type": "stream",
     "text": [
      "Votre jour de naissance: 1\n"
     ]
    }
   ],
   "source": [
    "Set1=[1,3,5,7,9,11,13,15,17,19,21,23,25,27,29,31]\n",
    "Set2=[2,3,6,7,10,11,14,15,18,19,22,23,26,27,30,31]\n",
    "Set3=[4,5,6,7,12,13,14,15,20,21,22,23,28,29,30,31]\n",
    "Set4=[8,9,10,11,12,13,14,15,24,25,26,27,28,29,30,31]\n",
    "Set5=[16,17,18,19,20,21,22,23,24,25,26,27,28,29,30,31]\n",
    "jour=0\n",
    "a=input(\"Est-ce que votre jour de naissance est dans cette liste ? (Repondre oui ou non.) \\n [1,3,5,7,9,11,13,15,17,19,21,23,25,27,29,31]\")\n",
    "b=input(\"Est-ce que votre jour de naissance est dans cette liste ? (Repondre oui ou non.) \\n [2,3,6,7,10,11,14,15,18,19,22,23,26,27,30,31]\")\n",
    "c=input(\"Est-ce que votre jour de naissance est dans cette liste ? (Repondre oui ou non.) \\n [4,5,6,7,12,13,14,15,20,21,22,23,28,29,30,31]\")\n",
    "d=input(\"Est-ce que votre jour de naissance est dans cette liste ? (Repondre oui ou non.) \\n [8,9,10,11,12,13,14,15,24,25,26,27,28,29,30,31]\")\n",
    "e= input(\"Est-ce que votre jour de naissance est dans cette liste ? (Repondre oui ou non.) \\n [16,17,18,19,20,21,22,23,24,25,26,27,28,29,30,31]\")\n",
    "\n",
    "if a == \"oui\":\n",
    "    jour=jour+Set1[0]\n",
    "elif b== \"oui\":\n",
    "    jour=jour+Set2[0]\n",
    "elif c== \"oui\":\n",
    "    jour=jour+Set3[0]\n",
    "elif d==\"oui\":\n",
    "    jour=jour+Set4[0]\n",
    "elif e==\"oui\":\n",
    "    jour=jour+Set5[0]\n",
    "else:\n",
    "    None\n",
    "\n",
    "\n",
    "print(\"Votre jour de naissance:\",jour)"
   ]
  },
  {
   "cell_type": "markdown",
   "metadata": {
    "slideshow": {
     "slide_type": "slide"
    }
   },
   "source": [
    "**Excercice 10:**\n",
    "\n",
    "Ecrire un programme qui permet de génèrer de manière aléatoire un nombre à deux chiffres, invite l'utilisateur à saisir un nombre à deux chiffres et détermine si l'utilisateur gagne selon les règles suivantes :\n",
    "* Si l'entrée de l'utilisateur correspond à la loterie (le nombre généré aléatoirement) dans l'ordre exact, la récompense est de 10 000€.\n",
    "* Sinon, si les deux chiffres entrés par l'utilisateur correspondent aux deux chiffres du numéro de loterie, la récompense est de 3 000€.\n",
    "* Sinon, si un chiffre dans l'entrée de l'utilisateur correspond à un chiffre dans le numéro de loterie, la récompense est de 1 000€.\n",
    "\n",
    "**Astuce :** Utiliser la fonction **random.randint(0, 99)** pour génèrer de manière aléatoire un nombre à deux chiffres. Cette fonction doit être accompagné par **import random** comme première instruction dans le code."
   ]
  },
  {
   "cell_type": "code",
   "execution_count": 31,
   "metadata": {
    "slideshow": {
     "slide_type": "notes"
    }
   },
   "outputs": [
    {
     "name": "stdout",
     "output_type": "stream",
     "text": [
      "Vous n'avez rien gagné le sang.\n",
      "Le numero de la loterie est 40 et toi tu as choisi 32\n"
     ]
    }
   ],
   "source": [
    "import random\n",
    "x=random.randint(0,99)\n",
    "n=int(input(\"Donnez moi un nombre à 2 chiffres\"))\n",
    "\n",
    "if n==x:\n",
    "    print(\"Vous avez gagné 10 000€\")\n",
    "elif x//10==n%10 and x%10==n//10: \n",
    "    print(\"Vous avez gagné 3 000€\")\n",
    "elif x//10==n%10 or x%10==n//10:\n",
    "    print(\"Vous avez gagné 1 000€\")\n",
    "else:\n",
    "    print(\"Vous n'avez rien gagné le sang.\")\n",
    "\n",
    "print(\"Le numero de la loterie est\", x, \"et toi tu as choisi\", n)"
   ]
  },
  {
   "cell_type": "markdown",
   "metadata": {},
   "source": [
    "**Exercice 11:**\n",
    "    \n",
    "Ecrire un programme qui permet de calculer la somme des chiffres d'un entier *n* donné. Le nombre *n* doit être compris entre 10 et 20 (bornes incluses)."
   ]
  },
  {
   "cell_type": "code",
   "execution_count": 10,
   "metadata": {},
   "outputs": [
    {
     "name": "stdout",
     "output_type": "stream",
     "text": [
      "7\n"
     ]
    }
   ],
   "source": [
    "n=int(input(\"Donnez un nombre entre 10 et 20:\"))\n",
    "\n",
    "if n >= 10 and n <= 20:\n",
    "    n=n//10 + n%10\n",
    "    print(n)\n",
    "else: \n",
    "    print(\"Votre nombre n'est pas compris dans l'intervalle [10,20]\")\n"
   ]
  },
  {
   "cell_type": "markdown",
   "metadata": {},
   "source": [
    "**Exercice 12:**\n",
    "\n",
    "1. Ecrire un programme qui permet de générer aléatoirement deux nombres entre 0 et 9, de calculer leurs différences (en valeur absolue), puis d'inviter l'utilisateur à répondre à la question suivante *que vaut abs(number1 - number2)?*. Le programme doit permettre à l'utilisateur de répondre plusieurs fois jusqu'à la saisie de la bonne réponse.\n",
    "2. Modifier le programme précédent de telle sorte qu'il génère cinq occurences à la suite invitant à répondre à la question précédente. A la fin, le programme affiche le nombre moyen de tentatives qu'il a fallu à l'utilisateur pour répondre à une question."
   ]
  },
  {
   "cell_type": "code",
   "execution_count": 22,
   "metadata": {
    "tags": []
   },
   "outputs": [
    {
     "name": "stdout",
     "output_type": "stream",
     "text": [
      "Tu as trouvé la réponse, c'était 3\n"
     ]
    }
   ],
   "source": [
    "import random\n",
    "x=random.randint(0,9)\n",
    "y=random.randint(0,9)\n",
    "n=\"\"\n",
    "while n != abs(int(x)-int(y)):\n",
    "    n=int(input(\"Que vaut abs(number1 - number2)?\"))\n",
    "\n",
    "print(\"Tu as trouvé la réponse, c'était\", n)\n"
   ]
  },
  {
   "cell_type": "code",
   "execution_count": 5,
   "metadata": {
    "tags": []
   },
   "outputs": [
    {
     "name": "stdout",
     "output_type": "stream",
     "text": [
      "Tu as trouvé la réponse à la question 1\n",
      "Tu as trouvé la réponse à la question 2\n",
      "Tu as trouvé la réponse à la question 3\n",
      "Tu as trouvé la réponse à la question 4\n",
      "Tu as trouvé la réponse à la question 5\n",
      "Tu as pris en moyenne 5.2 essais pour chaque question.\n"
     ]
    }
   ],
   "source": [
    "import random\n",
    "tentatives=0\n",
    "n=\"\"\n",
    "for i in range(1,6):\n",
    "        x=random.randint(0,9)\n",
    "        y=random.randint(0,9)\n",
    "        while n != abs(int(x)-int(y)):\n",
    "            n=int(input(\"Que vaut abs(number1 - number2)?\"))\n",
    "            tentatives=tentatives+1    \n",
    "        print(\"Tu as trouvé la réponse à la question\", i)\n",
    "\n",
    "\n",
    "print(\"Tu as pris en moyenne\", tentatives/5, \"essais pour chaque question.\")\n",
    "    \n"
   ]
  },
  {
   "cell_type": "markdown",
   "metadata": {},
   "source": [
    "**Exercice 13:**\n",
    "\n",
    "Ecrire un programme qui permet de calculer le nombre de mots dans une phrase saisie par l'utilisateur."
   ]
  },
  {
   "cell_type": "code",
   "execution_count": 6,
   "metadata": {
    "tags": []
   },
   "outputs": [
    {
     "name": "stdout",
     "output_type": "stream",
     "text": [
      "Il y a 0  mots dans cette phrase.\n"
     ]
    }
   ],
   "source": [
    "phrase=input(\"Quelle est votre phrase.\")\n",
    "nombredemots=0\n",
    "\n",
    "for i in range (0, len(phrase)):\n",
    "    if i == \"\":\n",
    "        nombredemots= nombredemots+1\n",
    "    else:\n",
    "        continue\n",
    "\n",
    "\n",
    "print(\"Il y a\", nombredemots , \" mots dans cette phrase.\")"
   ]
  },
  {
   "cell_type": "markdown",
   "metadata": {
    "slideshow": {
     "slide_type": "slide"
    }
   },
   "source": [
    "---\n",
    "\n",
    "## 4. Pour s'entraîner\n",
    "\n",
    "**Exercice 14:**\n",
    "    \n",
    "Soit la variable my_input = \"zoophysiology\". Ecrire un script qui permet d'afficher l'un des messages suivants en fonction du nombre maximum de *o* consécutifs dans la variable *my_input*. Par exemple, le script doit afficher \"I like studying birds! I want to become an ornithologist!\" parce qu'il y a deux *o* consécutifs, même s'il y a aussi des *o* individual.\n",
    "Ignorer les *o* majuscules - recherchez que les *o* minuscules.\n",
    "\n",
    "* Si \"o\" apparaît trois fois ou plus de suite, afficher le message \"I like going to the zoo!\"  \n",
    "* Si \"o\" apparaît deux fois, afficher le message \"I like studying birds! I want to become an ornithologist!\"  \n",
    "* Si \"o\" apparaît une seule fois, afficher le message \"I like studying fish! I want to become an ichthyologist!\"  \n",
    "* Si \"o\" n'apparaît pas dans la variable *my_input*, afficher le message \"I miss going to the zoo!\"  \n",
    "\n",
    "**Astuce :** Utiliser l'opérateur **in** qui renvoie **True** si la première chaîne se trouve dans la deuxième chaîne. "
   ]
  },
  {
   "cell_type": "code",
   "execution_count": null,
   "metadata": {
    "slideshow": {
     "slide_type": "notes"
    }
   },
   "outputs": [],
   "source": []
  },
  {
   "cell_type": "markdown",
   "metadata": {
    "slideshow": {
     "slide_type": "slide"
    }
   },
   "source": [
    "**Exercice 15:**\n",
    "    \n",
    "Créer quatre variables nommées *team_1* et *team_2*, représentant deux noms d'équipes, et *team_1_score* et *team_2_score*, représentant les scores de ces deux équipes. \n",
    "Une équipe gagne si son score est supérieur à l'autre score de l'autre équipe.\n",
    " \n",
    "Ecrire un premier script qui permet d'afficher les messages suivants selon les valeurs entrées, ceci en utilisant seulement les quatres variables créées :\n",
    "* Si une équipe bat l'autre, affichez: \"\\[winner\\] beat \\[loser\\] by \\[margin\\]\"\n",
    "* Si aucune des équipes n'a gagné, affichez: \"\\[team_1\\] played \\[team_2\\] and it was a tie\"\n",
    "\n",
    "Ecrire un deuxième script qui permet d'afficher les mêmes messages mais en ajoutant trois variables de plus :\n",
    "* La variable *winner* pour définir l'équipe gagnante  \n",
    "* La variable *loser* pour définier l'équipe perdante  \n",
    "* La variable *margin* pour définir la différence entre les deux scores \n"
   ]
  },
  {
   "cell_type": "code",
   "execution_count": null,
   "metadata": {
    "slideshow": {
     "slide_type": "notes"
    }
   },
   "outputs": [],
   "source": []
  },
  {
   "cell_type": "code",
   "execution_count": null,
   "metadata": {
    "slideshow": {
     "slide_type": "notes"
    }
   },
   "outputs": [],
   "source": []
  },
  {
   "cell_type": "markdown",
   "metadata": {
    "slideshow": {
     "slide_type": "slide"
    }
   },
   "source": [
    "**Exercice 16:**\n",
    "    \n",
    "L'Indice de Masse Corporelle (IMC) permet d'estimer le poids idéal en fonction de la taille. Son calcul correspond au poids en kilogrammes divisé par le carré de la taille en mètre (IMC = poids en kg/taille² en m). Le chiffre obtenu permet d'estimer la corpulence et éventuellement le surpoids ou l'obésité chez l'adulte, homme ou femme.\n",
    "L'interprétation de l'IMC pour les personnes de 16 ans et plus est la suivante :\n",
    "* Moins de 18.5: Underweight\n",
    "* Entre 18.5 et 24.9: Normal\n",
    "* Entre 25.0 et 29.9: Overweight\n",
    "* Plus que 30.0: Obese\n",
    "\n",
    "Ecrire un programme qui permet de saisir un poids en *pounds* et une taille en *inches*, de calculer et d'afficher l'IMC à deux valeurs après la virgule, et d'afficher l'interprétation la plus adéquate. Notez qu'un *pound* équivaut à 0,45359237 kilogrammes et qu'un *inch* équivaut à 0,0254 mètre.  \n",
    "\n",
    "**Astuce :** Pour afficher deux valeurs après la virgule, utilisez la fonction **format(nom_variable, \".2f\")**. Exemple : **print('La moyenne est :', format(moyenne, \".2f\"))**"
   ]
  },
  {
   "cell_type": "code",
   "execution_count": 17,
   "metadata": {
    "slideshow": {
     "slide_type": "notes"
    }
   },
   "outputs": [
    {
     "name": "stdout",
     "output_type": "stream",
     "text": [
      "Vous avez une IMC de  25.86 Overweight\n"
     ]
    }
   ],
   "source": [
    "n=float(input(\"Inserez votre taille en inches:\"))\n",
    "m=float(input(\"Inserez votre poids en pounds:\"))\n",
    "\n",
    "n=n*0.0254\n",
    "m=(m*0.45359237)\n",
    "x=m/(n**2)\n",
    "\n",
    "\n",
    "if x < 18.5:\n",
    "    print(\"Vous avez une IMC de \", format(x,\".2f\"), \"Underweight\")\n",
    "elif x > 18.5 and x < 24.9:\n",
    "    print(\"Vous avez une IMC de \", format(x,\".2f\"), \"Normal\")\n",
    "elif x > 25.0 and x < 29.9:\n",
    "    print(\"Vous avez une IMC de \", format(x,\".2f\"), \"Overweight\")\n",
    "else:\n",
    "    print(\"Vous avez une IMC de \", format(x,\".2f\"), \"Obese\")\n"
   ]
  },
  {
   "cell_type": "markdown",
   "metadata": {},
   "source": [
    "**Exercice 17:**\n",
    "\n",
    "Ecrire un programme qui affiche un triangle d'étoiles de taille donnée, par exemple si on entre 6, le programme affiche:\n",
    "```\n",
    "*\n",
    "**\n",
    "***\n",
    "****\n",
    "*****\n",
    "******\n",
    "```"
   ]
  },
  {
   "cell_type": "code",
   "execution_count": 18,
   "metadata": {
    "tags": []
   },
   "outputs": [
    {
     "name": "stdout",
     "output_type": "stream",
     "text": [
      "*\n",
      "**\n",
      "***\n",
      "****\n",
      "*****\n",
      "******\n",
      "*******\n",
      "********\n"
     ]
    }
   ],
   "source": [
    "n=int(input(\"Choisir la taille du triangle\"))\n",
    "\n",
    "for i in range(1,n+1):\n",
    "    print (i*\"*\")"
   ]
  },
  {
   "cell_type": "markdown",
   "metadata": {},
   "source": [
    "**Exercice 18:**\n",
    "\n",
    "Même exercice mais cette fois la sortie est\n",
    "```\n",
    "     *\n",
    "    **         \n",
    "   ***\n",
    "  ****\n",
    " *****\n",
    "******\n",
    "```"
   ]
  },
  {
   "cell_type": "code",
   "execution_count": 19,
   "metadata": {
    "tags": []
   },
   "outputs": [
    {
     "name": "stdout",
     "output_type": "stream",
     "text": [
      "     *\n",
      "    **\n",
      "   ***\n",
      "  ****\n",
      " *****\n"
     ]
    }
   ],
   "source": [
    "n=int(input(\"Choisir la taille du triangle\"))\n",
    "\n",
    "for i in range(1,n+1):\n",
    "    print ((n-i)*\" \", i*\"*\")"
   ]
  },
  {
   "cell_type": "markdown",
   "metadata": {},
   "source": [
    "**Exercice 19:**\n",
    "\n",
    "Ecrire un programme qui calcule, étant donné un entier *n* rentré par l'utilisateur, la plus grande puissance de *n* inférieure à un million."
   ]
  },
  {
   "cell_type": "code",
   "execution_count": 4,
   "metadata": {
    "tags": []
   },
   "outputs": [
    {
     "name": "stdout",
     "output_type": "stream",
     "text": [
      "La plus grande puissance de 27 avant 1 000 000 c'est est 4 et le résultat c'est 531441\n"
     ]
    }
   ],
   "source": [
    "n= int(input(\"Donnez moi un entier ?\"))\n",
    "puissance=1\n",
    "fin=1000000\n",
    "\n",
    "if n > 1000000:\n",
    "    print(\"Ce nombre est déjà supérieur à 1 000 000!\")\n",
    "else:\n",
    "    while int(n**puissance) < fin:\n",
    "        puissance=puissance+1\n",
    "    print(\"La plus grande puissance de\", int(n), \"avant 1 000 000 c'est est\", puissance-1, \"et le résultat c'est\", (n**(puissance-1)))"
   ]
  },
  {
   "cell_type": "code",
   "execution_count": 13,
   "metadata": {},
   "outputs": [
    {
     "name": "stdout",
     "output_type": "stream",
     "text": [
      "5\n"
     ]
    }
   ],
   "source": [
    "a=1\n",
    "a+=5\n",
    "a=+5\n",
    "print(a)\n",
    "\n",
    "a=a+5\n",
    "\n",
    "#a est une variable qui prends la valeur de 1\n",
    "# à la variable a, on ajoute 5,, on aura 1+5 donc 6. Apres cette ligne a vaut 6.\n",
    "#à cette meme variable a, on rajoute encore une fois +5 et le resultat de cette opération devient le nouveau a. Donc apres cette ligne a n'est\n",
    "#plus égale à 1 mais bien 11."
   ]
  },
  {
   "cell_type": "code",
   "execution_count": 1,
   "metadata": {},
   "outputs": [
    {
     "name": "stdout",
     "output_type": "stream",
     "text": [
      "Veuillez consulter la brochure tarifaire.\n"
     ]
    }
   ],
   "source": [
    "n=input(\"Choisir un pays d'origine\")\n",
    "x=input(\"Choisir un pays de destination\")\n",
    "\n",
    "if n==x:\n",
    "    print(\"Gratuit\")\n",
    "elif n==\"France\" and x==\"Estonie\":\n",
    "    print(\"Le tarif est de 0.3e par minute.\")\n",
    "elif n==\"Estonie\" and x==\"France\":\n",
    "    print(\"Le tarif est de 0.7e par minute.\")\n",
    "else:\n",
    "    print(\"Veuillez consulter la brochure tarifaire.\")\n",
    "\n",
    "\n",
    "\n",
    "#On demande à l'utilisateur de rentrer 2 reponses à une question et on stocke cette reponse dans deux variables n et x.\n",
    "#On verifie la condition SI, si elle est vrai on print les tarifs"
   ]
  },
  {
   "cell_type": "code",
   "execution_count": 12,
   "metadata": {},
   "outputs": [
    {
     "name": "stdout",
     "output_type": "stream",
     "text": [
      "Veuillez consulter la brochure tarifaire.\n"
     ]
    }
   ],
   "source": [
    "n=input(\"Choisir un pays d'origine\")\n",
    "x=input(\"Choisir un pays de destination\")\n",
    "\n",
    "if n==\"France\" and x==\"France\":\n",
    "    print(\"Gratuit\")\n",
    "elif n==\"France\" and x==\"Estonie\":\n",
    "    print(\"Le tarif est de 0.3e par minute.\")\n",
    "elif n==\"Estonie\" and x==\"France\":\n",
    "    print(\"Le tarif est de 0.7e par minute.\")\n",
    "else:\n",
    "    print(\"Veuillez consulter la brochure tarifaire.\")"
   ]
  },
  {
   "cell_type": "code",
   "execution_count": 2,
   "metadata": {},
   "outputs": [
    {
     "name": "stdout",
     "output_type": "stream",
     "text": [
      "Lorsqu'il aura 28 ans, il aura sur son compte 4698 euros.\n"
     ]
    }
   ],
   "source": [
    "n=(int(input(\"Quel age ?\")))\n",
    "argent=120\n",
    "\n",
    "for i in range(1,n+1):\n",
    "    argent=argent+120+(i*3)\n",
    "print(\"Lorsqu'il aura\", n, \"ans, il aura sur son compte\", argent ,\"euros.\")\n",
    "\n",
    "#On commence à 1 car I=0 est égal à 120 d'office et en plus si on commence pas à 1, pour la première boucle on aura argent=120+(120x0)."
   ]
  }
 ],
 "metadata": {
  "celltoolbar": "Diaporama",
  "interpreter": {
   "hash": "7003248bb95c4a956e23221afabbaa3db356a1285287c88954608f98cd1ca4d7"
  },
  "kernelspec": {
   "display_name": "Python 3.9.7 64-bit ('l1-python': conda)",
   "name": "python3"
  },
  "language_info": {
   "codemirror_mode": {
    "name": "ipython",
    "version": 3
   },
   "file_extension": ".py",
   "mimetype": "text/x-python",
   "name": "python",
   "nbconvert_exporter": "python",
   "pygments_lexer": "ipython3",
   "version": "3.9.7"
  }
 },
 "nbformat": 4,
 "nbformat_minor": 4
}
